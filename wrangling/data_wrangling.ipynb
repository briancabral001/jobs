{
 "cells": [
  {
   "cell_type": "code",
   "execution_count": 1,
   "id": "6cd8d854",
   "metadata": {},
   "outputs": [
    {
     "ename": "KeyboardInterrupt",
     "evalue": "",
     "output_type": "error",
     "traceback": [
      "\u001b[31m---------------------------------------------------------------------------\u001b[39m",
      "\u001b[31mKeyboardInterrupt\u001b[39m                         Traceback (most recent call last)",
      "\u001b[36mCell\u001b[39m\u001b[36m \u001b[39m\u001b[32mIn[1]\u001b[39m\u001b[32m, line 14\u001b[39m\n\u001b[32m     12\u001b[39m \u001b[38;5;66;03m# Convert into a pandas DataFrame\u001b[39;00m\n\u001b[32m     13\u001b[39m \u001b[38;5;28;01mimport\u001b[39;00m\u001b[38;5;250m \u001b[39m\u001b[34;01mpandas\u001b[39;00m\u001b[38;5;250m \u001b[39m\u001b[38;5;28;01mas\u001b[39;00m\u001b[38;5;250m \u001b[39m\u001b[34;01mpd\u001b[39;00m\n\u001b[32m---> \u001b[39m\u001b[32m14\u001b[39m df_raw = pd.DataFrame(ds[\u001b[33m'\u001b[39m\u001b[33mtrain\u001b[39m\u001b[33m'\u001b[39m])\n\u001b[32m     16\u001b[39m os.makedirs(\u001b[33m\"\u001b[39m\u001b[33mdata/raw\u001b[39m\u001b[33m\"\u001b[39m, exist_ok=\u001b[38;5;28;01mTrue\u001b[39;00m)\n\u001b[32m     18\u001b[39m \u001b[38;5;66;03m# Save in local CSV \u001b[39;00m\n",
      "\u001b[36mFile \u001b[39m\u001b[32m/opt/miniconda3/envs/data_env/lib/python3.11/site-packages/pandas/core/frame.py:843\u001b[39m, in \u001b[36mDataFrame.__init__\u001b[39m\u001b[34m(self, data, index, columns, dtype, copy)\u001b[39m\n\u001b[32m    841\u001b[39m         data = np.asarray(data)\n\u001b[32m    842\u001b[39m     \u001b[38;5;28;01melse\u001b[39;00m:\n\u001b[32m--> \u001b[39m\u001b[32m843\u001b[39m         data = \u001b[38;5;28mlist\u001b[39m(data)\n\u001b[32m    844\u001b[39m \u001b[38;5;28;01mif\u001b[39;00m \u001b[38;5;28mlen\u001b[39m(data) > \u001b[32m0\u001b[39m:\n\u001b[32m    845\u001b[39m     \u001b[38;5;28;01mif\u001b[39;00m is_dataclass(data[\u001b[32m0\u001b[39m]):\n",
      "\u001b[36mFile \u001b[39m\u001b[32m/opt/miniconda3/envs/data_env/lib/python3.11/site-packages/datasets/arrow_dataset.py:2466\u001b[39m, in \u001b[36mDataset.__iter__\u001b[39m\u001b[34m(self)\u001b[39m\n\u001b[32m   2464\u001b[39m         \u001b[38;5;28;01mfor\u001b[39;00m i \u001b[38;5;129;01min\u001b[39;00m \u001b[38;5;28mrange\u001b[39m(pa_subtable.num_rows):\n\u001b[32m   2465\u001b[39m             pa_subtable_ex = pa_subtable.slice(i, \u001b[32m1\u001b[39m)\n\u001b[32m-> \u001b[39m\u001b[32m2466\u001b[39m             formatted_output = format_table(\n\u001b[32m   2467\u001b[39m                 pa_subtable_ex,\n\u001b[32m   2468\u001b[39m                 \u001b[32m0\u001b[39m,\n\u001b[32m   2469\u001b[39m                 formatter=formatter,\n\u001b[32m   2470\u001b[39m                 format_columns=\u001b[38;5;28mself\u001b[39m._format_columns,\n\u001b[32m   2471\u001b[39m                 output_all_columns=\u001b[38;5;28mself\u001b[39m._output_all_columns,\n\u001b[32m   2472\u001b[39m             )\n\u001b[32m   2473\u001b[39m             \u001b[38;5;28;01myield\u001b[39;00m formatted_output\n\u001b[32m   2474\u001b[39m \u001b[38;5;28;01melse\u001b[39;00m:\n",
      "\u001b[36mFile \u001b[39m\u001b[32m/opt/miniconda3/envs/data_env/lib/python3.11/site-packages/datasets/formatting/formatting.py:620\u001b[39m, in \u001b[36mformat_table\u001b[39m\u001b[34m(table, key, formatter, format_columns, output_all_columns)\u001b[39m\n\u001b[32m    616\u001b[39m         pa_subtable = _query_table_with_indices_mapping(table, key, indices=indices)\n\u001b[32m    617\u001b[39m     \u001b[38;5;28;01mreturn\u001b[39;00m pa_subtable\n\u001b[32m--> \u001b[39m\u001b[32m620\u001b[39m \u001b[38;5;28;01mdef\u001b[39;00m\u001b[38;5;250m \u001b[39m\u001b[34mformat_table\u001b[39m(\n\u001b[32m    621\u001b[39m     table: Table,\n\u001b[32m    622\u001b[39m     key: Union[\u001b[38;5;28mint\u001b[39m, \u001b[38;5;28mslice\u001b[39m, \u001b[38;5;28mrange\u001b[39m, \u001b[38;5;28mstr\u001b[39m, Iterable],\n\u001b[32m    623\u001b[39m     formatter: Formatter,\n\u001b[32m    624\u001b[39m     format_columns: Optional[\u001b[38;5;28mlist\u001b[39m] = \u001b[38;5;28;01mNone\u001b[39;00m,\n\u001b[32m    625\u001b[39m     output_all_columns=\u001b[38;5;28;01mFalse\u001b[39;00m,\n\u001b[32m    626\u001b[39m ):\n\u001b[32m    627\u001b[39m \u001b[38;5;250m    \u001b[39m\u001b[33;03m\"\"\"\u001b[39;00m\n\u001b[32m    628\u001b[39m \u001b[33;03m    Format a Table depending on the key that was used and a Formatter object.\u001b[39;00m\n\u001b[32m    629\u001b[39m \n\u001b[32m   (...)\u001b[39m\u001b[32m    648\u001b[39m \u001b[33;03m        - the TFFormatter returns a dictionary for a row or a batch, and a tf.Tensor for a column.\u001b[39;00m\n\u001b[32m    649\u001b[39m \u001b[33;03m    \"\"\"\u001b[39;00m\n\u001b[32m    650\u001b[39m     \u001b[38;5;28;01mif\u001b[39;00m \u001b[38;5;28misinstance\u001b[39m(table, Table):\n",
      "\u001b[31mKeyboardInterrupt\u001b[39m: "
     ]
    }
   ],
   "source": [
    "%load_ext autoreload\n",
    "%autoreload 2\n",
    "import pandas as pd\n",
    "import numpy as np\n",
    "import sys\n",
    "import os \n",
    "from datasets import load_dataset\n",
    "\n",
    "# 🌐 Hugging Face Datasets (to download raw data)\n",
    "ds = load_dataset(\"lukebarousse/data_jobs\")\n",
    "\n",
    "# Convert into a pandas DataFrame\n",
    "import pandas as pd\n",
    "df_raw = pd.DataFrame(ds['train'])\n",
    "\n",
    "os.makedirs(\"data/raw\", exist_ok=True)\n",
    "\n",
    "# Save in local CSV \n",
    "df_raw.to_csv(\"data/raw/data_jobs.csv\", index=False)\n",
    "\n",
    "project_root = os.path.abspath(\"..\") \n",
    "\n",
    "sys.path.append(os.path.abspath(\"..\"))\n",
    "\n",
    "from features.helpers import filter_jobs\n",
    "from features.wrangling import * "
   ]
  },
  {
   "cell_type": "markdown",
   "id": "0d29cfdd",
   "metadata": {},
   "source": [
    "### 🔄 Data Cleaning: Locations & Job Types\n",
    "\n",
    "This function aims to:\n",
    "\n",
    "1. **Remove duplicates** from the dataset.  \n",
    "2. **Extract the correct country** from the `job_location` column, since there were inconsistencies (e.g., `job_location = \"New York\"` but `job_country = \"Sudan\"`).  \n",
    "3. **Normalize the `job_type` column** using a mapping tool to standardize job categories.\n"
   ]
  },
  {
   "cell_type": "code",
   "execution_count": null,
   "id": "7a4ae416",
   "metadata": {},
   "outputs": [
    {
     "name": "stdout",
     "output_type": "stream",
     "text": [
      "Initial rows: 785741\n",
      "Duplicates removed: 101\n",
      "Rows after filtering location: 754305\n",
      "Final rows after normalizing job type: 754305\n"
     ]
    }
   ],
   "source": [
    "def wrangle_country(df):\n",
    "    print(f\"Initial rows: {len(df)}\")\n",
    "    initial_len = len(df)\n",
    "    df = df.drop_duplicates()\n",
    "    print(f\"Duplicates removed: {initial_len - len(df)}\")\n",
    "\n",
    "    df = filter_location_matches_country(df)\n",
    "    print(f\"Rows after filtering location: {len(df)}\")\n",
    "\n",
    "    df = normalize_job_type(df)\n",
    "    print(f\"Final rows after normalizing job type: {len(df)}\")\n",
    "    return df\n",
    "df_clean = wrangle_country(df_raw)\n"
   ]
  },
  {
   "cell_type": "markdown",
   "id": "840a045b",
   "metadata": {},
   "source": [
    "### 🧹 Removing Outliers\n",
    "\n",
    "We will remove the outliers identified in the `salary_year_avg` column to ensure a cleaner and more accurate analysis of salaries."
   ]
  },
  {
   "cell_type": "code",
   "execution_count": null,
   "id": "7e570dcc",
   "metadata": {},
   "outputs": [],
   "source": [
    "df_cleaned = remove_outliers(df_clean) "
   ]
  },
  {
   "cell_type": "markdown",
   "id": "f123d540",
   "metadata": {},
   "source": [
    "### 💾 Save Cleaned Data\n",
    "\n",
    "Once the data is cleaned, we save it in the `data/clean` folder so it can be used in the **Analysis notebook**.\n"
   ]
  },
  {
   "cell_type": "code",
   "execution_count": null,
   "id": "5c11436b",
   "metadata": {},
   "outputs": [],
   "source": [
    "CLEAN_PATH = \"/Users/brian/Documents/data_jobs/data/clean/clean_data.csv\"\n",
    "\n",
    "df_cleaned.to_csv(CLEAN_PATH, index=False)\n"
   ]
  }
 ],
 "metadata": {
  "kernelspec": {
   "display_name": "data_env",
   "language": "python",
   "name": "python3"
  },
  "language_info": {
   "codemirror_mode": {
    "name": "ipython",
    "version": 3
   },
   "file_extension": ".py",
   "mimetype": "text/x-python",
   "name": "python",
   "nbconvert_exporter": "python",
   "pygments_lexer": "ipython3",
   "version": "3.11.13"
  }
 },
 "nbformat": 4,
 "nbformat_minor": 5
}
